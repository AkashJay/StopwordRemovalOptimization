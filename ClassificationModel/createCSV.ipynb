{
 "cells": [
  {
   "cell_type": "markdown",
   "metadata": {},
   "source": [
    "# Create a csv file form each file and add a new column as category"
   ]
  },
  {
   "cell_type": "code",
   "execution_count": 1,
   "metadata": {
    "scrolled": false
   },
   "outputs": [],
   "source": [
    "import os\n",
    "import csv\n",
    "\n",
    "path = '/home/akash/Documents/SLIIT/CDAP/EvaluationJune26/Documents/AnlyzeSinhala/Processed/cricket/'\n",
    "\n",
    "files = []\n",
    "# r=root, d=directories, f = files\n",
    "for r, d, f in os.walk(path):\n",
    "    for file in f:\n",
    "        files.append(os.path.join(r, file))\n",
    "\n",
    "\n",
    "filenames = files\n",
    "files = {}\n",
    " \n",
    "for filename in filenames:\n",
    "    with open(filename, \"r\") as file:\n",
    "        if filename in files:\n",
    "            continue\n",
    "        files[filename] = file.read()\n",
    "        \n",
    "listCricket=[]\n",
    "for filename, text in files.items():\n",
    "    listCricket.append(text)\n",
    "# listCricket"
   ]
  },
  {
   "cell_type": "code",
   "execution_count": 2,
   "metadata": {},
   "outputs": [],
   "source": [
    "import os\n",
    "import csv\n",
    "\n",
    "path = '/home/akash/Documents/SLIIT/CDAP/EvaluationJune26/Documents/AnlyzeSinhala/Processed/rugby/'\n",
    "\n",
    "files = []\n",
    "# r=root, d=directories, f = files\n",
    "for r, d, f in os.walk(path):\n",
    "    for file in f:\n",
    "        files.append(os.path.join(r, file))\n",
    "\n",
    "\n",
    "filenames = files\n",
    "files = {}\n",
    " \n",
    "for filename in filenames:\n",
    "    with open(filename, \"r\") as file:\n",
    "        if filename in files:\n",
    "            continue\n",
    "        files[filename] = file.read()\n",
    "listRugby=[]\n",
    "for filename, text in files.items():\n",
    "    listRugby.append(text)\n",
    "\n",
    "# listRugby\n"
   ]
  },
  {
   "cell_type": "code",
   "execution_count": 3,
   "metadata": {},
   "outputs": [],
   "source": [
    "import os\n",
    "import csv\n",
    "\n",
    "path = '/home/akash/Documents/SLIIT/CDAP/EvaluationJune26/Documents/AnlyzeSinhala/Processed/football/'\n",
    "\n",
    "files = []\n",
    "# r=root, d=directories, f = files\n",
    "for r, d, f in os.walk(path):\n",
    "    for file in f:\n",
    "        files.append(os.path.join(r, file))\n",
    "\n",
    "\n",
    "filenames = files\n",
    "files = {}\n",
    "  \n",
    "for filename in filenames:\n",
    "    with open(filename, \"r\") as file:\n",
    "        if filename in files:\n",
    "            continue\n",
    "        files[filename] = file.read()\n",
    "        \n",
    "listFootball=[]\n",
    "for filename, text in files.items():\n",
    "    listFootball.append(text)\n"
   ]
  },
  {
   "cell_type": "markdown",
   "metadata": {},
   "source": [
    "# Join csv files into a one csv file"
   ]
  },
  {
   "cell_type": "code",
   "execution_count": 4,
   "metadata": {},
   "outputs": [],
   "source": [
    "with open('testList.csv', 'w') as csvfile:\n",
    "    filewriter = csv.writer(csvfile)\n",
    "    for cc in listRugby:\n",
    "        filewriter.writerow([cc, 'rugby'])\n",
    "    for cc in listCricket:\n",
    "        filewriter.writerow([cc, 'cricket'])\n",
    "    for ff in listFootball:\n",
    "        filewriter.writerow([ff, 'football'])"
   ]
  },
  {
   "cell_type": "code",
   "execution_count": null,
   "metadata": {},
   "outputs": [],
   "source": []
  },
  {
   "cell_type": "code",
   "execution_count": null,
   "metadata": {},
   "outputs": [],
   "source": []
  },
  {
   "cell_type": "code",
   "execution_count": null,
   "metadata": {},
   "outputs": [],
   "source": []
  },
  {
   "cell_type": "code",
   "execution_count": null,
   "metadata": {},
   "outputs": [],
   "source": []
  }
 ],
 "metadata": {
  "kernelspec": {
   "display_name": "Python 3",
   "language": "python",
   "name": "python3"
  },
  "language_info": {
   "codemirror_mode": {
    "name": "ipython",
    "version": 3
   },
   "file_extension": ".py",
   "mimetype": "text/x-python",
   "name": "python",
   "nbconvert_exporter": "python",
   "pygments_lexer": "ipython3",
   "version": "3.6.8"
  }
 },
 "nbformat": 4,
 "nbformat_minor": 2
}
