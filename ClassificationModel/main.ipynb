{
 "cells": [
  {
   "cell_type": "code",
   "execution_count": 1,
   "metadata": {},
   "outputs": [],
   "source": [
    "import re\n",
    "import string\n",
    "import pandas as pd\n",
    "from functools import reduce\n",
    "from math import log"
   ]
  },
  {
   "cell_type": "markdown",
   "metadata": {},
   "source": [
    "## Simple example of [TF-IDF](https://en.wikipedia.org/wiki/Tf%E2%80%93idf)\n",
    "1. Example of corpus\n",
    "2. Preprocessing and Tokenizing\n",
    "3. Calculating bag of words\n",
    "4. TF\n",
    "5. IDF\n",
    "6. TF-IDF"
   ]
  },
  {
   "cell_type": "code",
   "execution_count": 6,
   "metadata": {},
   "outputs": [
    {
     "data": {
      "text/plain": [
       "['Simple example with Cats and Mouse',\n",
       " 'Another simple example with dogs and cats',\n",
       " 'Another simple example with mouse and cheese']"
      ]
     },
     "execution_count": 6,
     "metadata": {},
     "output_type": "execute_result"
    }
   ],
   "source": [
    "#1\n",
    "corpus = \"\"\"\n",
    "Simple example with Cats and Mouse\n",
    "Another simple example with dogs and cats\n",
    "Another simple example with mouse and cheese\n",
    "\"\"\".split(\"\\n\")[1:-1]\n",
    "\n",
    "corpus"
   ]
  },
  {
   "cell_type": "code",
   "execution_count": 7,
   "metadata": {},
   "outputs": [
    {
     "name": "stdout",
     "output_type": "stream",
     "text": [
      "['simple', 'example', 'with', 'cats', 'and', 'mouse']\n",
      "['another', 'simple', 'example', 'with', 'dogs', 'and', 'cats']\n",
      "['another', 'simple', 'example', 'with', 'mouse', 'and', 'cheese']\n"
     ]
    }
   ],
   "source": [
    "#2\n",
    "l_A = corpus[0].lower().split()\n",
    "l_B = corpus[1].lower().split()\n",
    "l_C = corpus[2].lower().split()\n",
    "\n",
    "print(l_A)\n",
    "print(l_B)\n",
    "print(l_C)"
   ]
  },
  {
   "cell_type": "code",
   "execution_count": 8,
   "metadata": {},
   "outputs": [
    {
     "name": "stdout",
     "output_type": "stream",
     "text": [
      "{'cats', 'example', 'another', 'simple', 'and', 'mouse', 'cheese', 'dogs', 'with'}\n"
     ]
    }
   ],
   "source": [
    "#3\n",
    "word_set = set(l_A).union(set(l_B)).union(set(l_C))\n",
    "print(word_set)"
   ]
  },
  {
   "cell_type": "code",
   "execution_count": 9,
   "metadata": {},
   "outputs": [
    {
     "data": {
      "text/html": [
       "<div>\n",
       "<style scoped>\n",
       "    .dataframe tbody tr th:only-of-type {\n",
       "        vertical-align: middle;\n",
       "    }\n",
       "\n",
       "    .dataframe tbody tr th {\n",
       "        vertical-align: top;\n",
       "    }\n",
       "\n",
       "    .dataframe thead th {\n",
       "        text-align: right;\n",
       "    }\n",
       "</style>\n",
       "<table border=\"1\" class=\"dataframe\">\n",
       "  <thead>\n",
       "    <tr style=\"text-align: right;\">\n",
       "      <th></th>\n",
       "      <th>and</th>\n",
       "      <th>another</th>\n",
       "      <th>cats</th>\n",
       "      <th>cheese</th>\n",
       "      <th>dogs</th>\n",
       "      <th>example</th>\n",
       "      <th>mouse</th>\n",
       "      <th>simple</th>\n",
       "      <th>with</th>\n",
       "    </tr>\n",
       "  </thead>\n",
       "  <tbody>\n",
       "    <tr>\n",
       "      <th>0</th>\n",
       "      <td>1</td>\n",
       "      <td>0</td>\n",
       "      <td>1</td>\n",
       "      <td>0</td>\n",
       "      <td>0</td>\n",
       "      <td>1</td>\n",
       "      <td>1</td>\n",
       "      <td>1</td>\n",
       "      <td>1</td>\n",
       "    </tr>\n",
       "    <tr>\n",
       "      <th>1</th>\n",
       "      <td>1</td>\n",
       "      <td>1</td>\n",
       "      <td>1</td>\n",
       "      <td>0</td>\n",
       "      <td>1</td>\n",
       "      <td>1</td>\n",
       "      <td>0</td>\n",
       "      <td>1</td>\n",
       "      <td>1</td>\n",
       "    </tr>\n",
       "    <tr>\n",
       "      <th>2</th>\n",
       "      <td>1</td>\n",
       "      <td>1</td>\n",
       "      <td>0</td>\n",
       "      <td>1</td>\n",
       "      <td>0</td>\n",
       "      <td>1</td>\n",
       "      <td>1</td>\n",
       "      <td>1</td>\n",
       "      <td>1</td>\n",
       "    </tr>\n",
       "  </tbody>\n",
       "</table>\n",
       "</div>"
      ],
      "text/plain": [
       "   and  another  cats  cheese  dogs  example  mouse  simple  with\n",
       "0    1        0     1       0     0        1      1       1     1\n",
       "1    1        1     1       0     1        1      0       1     1\n",
       "2    1        1     0       1     0        1      1       1     1"
      ]
     },
     "execution_count": 9,
     "metadata": {},
     "output_type": "execute_result"
    }
   ],
   "source": [
    "word_dict_A = dict.fromkeys(word_set, 0)\n",
    "word_dict_B = dict.fromkeys(word_set, 0)\n",
    "word_dict_C = dict.fromkeys(word_set, 0)\n",
    "\n",
    "for word in l_A:\n",
    "    word_dict_A[word] += 1\n",
    "\n",
    "for word in l_B:\n",
    "    word_dict_B[word] += 1\n",
    "\n",
    "for word in l_C:\n",
    "    word_dict_C[word] += 1\n",
    "\n",
    "pd.DataFrame([word_dict_A, word_dict_B, word_dict_C])"
   ]
  },
  {
   "cell_type": "markdown",
   "metadata": {},
   "source": [
    "## \\#4 tf - term frequency\n",
    "In the case of the term frequency $tf(t,d)$, the simplest choice is to use the raw count of a term in a string. \n",
    "$${\\displaystyle \\mathrm {tf} (t,d)={\\frac {n_{t}}{\\sum _{k}n_{k}}}} $$\n",
    "where $n_t$ is the number of occurrences of the word $t$ in the string, and in the denominator - the total number of words in this string."
   ]
  },
  {
   "cell_type": "code",
   "execution_count": 10,
   "metadata": {},
   "outputs": [],
   "source": [
    "def compute_tf(word_dict, l):\n",
    "    tf = {}\n",
    "    sum_nk = len(l)\n",
    "    for word, count in word_dict.items():\n",
    "        tf[word] = count/sum_nk\n",
    "    return tf"
   ]
  },
  {
   "cell_type": "code",
   "execution_count": 16,
   "metadata": {},
   "outputs": [
    {
     "data": {
      "text/plain": [
       "{'cats': 0.16666666666666666,\n",
       " 'example': 0.16666666666666666,\n",
       " 'another': 0.0,\n",
       " 'simple': 0.16666666666666666,\n",
       " 'and': 0.16666666666666666,\n",
       " 'mouse': 0.16666666666666666,\n",
       " 'cheese': 0.0,\n",
       " 'dogs': 0.0,\n",
       " 'with': 0.16666666666666666}"
      ]
     },
     "execution_count": 16,
     "metadata": {},
     "output_type": "execute_result"
    }
   ],
   "source": [
    "tf_A = compute_tf(word_dict_A, l_A)\n",
    "tf_B = compute_tf(word_dict_B, l_B)\n",
    "tf_C = compute_tf(word_dict_C, l_C)\n",
    "\n",
    "tf_A"
   ]
  },
  {
   "cell_type": "markdown",
   "metadata": {},
   "source": [
    "## \\#5 idf - inverse document frequency\n",
    "idf is a measure of how much information the word provides\n",
    "$$ \\mathrm{idf}(t, D) =  \\log \\frac{N}{|\\{d \\in D: t \\in d\\}|} $$\n",
    "- $N$: total number of strings in the corpus ${\\displaystyle N={|D|}}$\n",
    "- ${\\displaystyle |\\{d\\in D:t\\in d\\}|}$  : number of strings where the term ${\\displaystyle t}$ appears (i.e., ${\\displaystyle \\mathrm {tf} (t,d)\\neq 0})$. If the term is not in the corpus, this will lead to a division-by-zero. It is therefore common to adjust the denominator to ${\\displaystyle 1+|\\{d\\in D:t\\in d\\}|}$."
   ]
  },
  {
   "cell_type": "code",
   "execution_count": 17,
   "metadata": {},
   "outputs": [],
   "source": [
    "def compute_idf(strings_list):\n",
    "    n = len(strings_list)\n",
    "    idf = dict.fromkeys(strings_list[0].keys(), 0)\n",
    "    for l in strings_list:\n",
    "        for word, count in l.items():\n",
    "            if count > 0:\n",
    "                idf[word] += 1\n",
    "    \n",
    "    for word, v in idf.items():\n",
    "        idf[word] = log(n / float(v))\n",
    "    return idf"
   ]
  },
  {
   "cell_type": "code",
   "execution_count": 18,
   "metadata": {},
   "outputs": [
    {
     "data": {
      "text/plain": [
       "{'cats': 0.4054651081081644,\n",
       " 'example': 0.0,\n",
       " 'another': 0.4054651081081644,\n",
       " 'simple': 0.0,\n",
       " 'and': 0.0,\n",
       " 'mouse': 0.4054651081081644,\n",
       " 'cheese': 1.0986122886681098,\n",
       " 'dogs': 1.0986122886681098,\n",
       " 'with': 0.0}"
      ]
     },
     "execution_count": 18,
     "metadata": {},
     "output_type": "execute_result"
    }
   ],
   "source": [
    "idf = compute_idf([word_dict_A, word_dict_B, word_dict_C])\n",
    "idf"
   ]
  },
  {
   "cell_type": "markdown",
   "metadata": {},
   "source": [
    "## \\# 6 tf-idf\n",
    "Then tf–idf is calculated as\n",
    "$$ {\\displaystyle \\mathrm {tfidf} (t,d,D)=\\mathrm {tf} (t,d)\\cdot \\mathrm {idf} (t,D)} $$"
   ]
  },
  {
   "cell_type": "code",
   "execution_count": 19,
   "metadata": {},
   "outputs": [],
   "source": [
    "def compute_tf_idf(tf, idf):\n",
    "    tf_idf = dict.fromkeys(tf.keys(), 0)\n",
    "    for word, v in tf.items():\n",
    "        tf_idf[word] = v * idf[word]\n",
    "    return tf_idf"
   ]
  },
  {
   "cell_type": "code",
   "execution_count": 23,
   "metadata": {},
   "outputs": [],
   "source": [
    "tf_idf_A = compute_tf_idf(tf_A, idf)\n",
    "tf_idf_B = compute_tf_idf(tf_B, idf)\n",
    "tf_idf_C = compute_tf_idf(tf_C, idf)"
   ]
  },
  {
   "cell_type": "code",
   "execution_count": 24,
   "metadata": {},
   "outputs": [
    {
     "data": {
      "text/html": [
       "<div>\n",
       "<style scoped>\n",
       "    .dataframe tbody tr th:only-of-type {\n",
       "        vertical-align: middle;\n",
       "    }\n",
       "\n",
       "    .dataframe tbody tr th {\n",
       "        vertical-align: top;\n",
       "    }\n",
       "\n",
       "    .dataframe thead th {\n",
       "        text-align: right;\n",
       "    }\n",
       "</style>\n",
       "<table border=\"1\" class=\"dataframe\">\n",
       "  <thead>\n",
       "    <tr style=\"text-align: right;\">\n",
       "      <th></th>\n",
       "      <th>and</th>\n",
       "      <th>another</th>\n",
       "      <th>cats</th>\n",
       "      <th>cheese</th>\n",
       "      <th>dogs</th>\n",
       "      <th>example</th>\n",
       "      <th>mouse</th>\n",
       "      <th>simple</th>\n",
       "      <th>with</th>\n",
       "    </tr>\n",
       "  </thead>\n",
       "  <tbody>\n",
       "    <tr>\n",
       "      <th>0</th>\n",
       "      <td>0.0</td>\n",
       "      <td>0.000000</td>\n",
       "      <td>0.067578</td>\n",
       "      <td>0.000000</td>\n",
       "      <td>0.000000</td>\n",
       "      <td>0.0</td>\n",
       "      <td>0.067578</td>\n",
       "      <td>0.0</td>\n",
       "      <td>0.0</td>\n",
       "    </tr>\n",
       "    <tr>\n",
       "      <th>1</th>\n",
       "      <td>0.0</td>\n",
       "      <td>0.057924</td>\n",
       "      <td>0.057924</td>\n",
       "      <td>0.000000</td>\n",
       "      <td>0.156945</td>\n",
       "      <td>0.0</td>\n",
       "      <td>0.000000</td>\n",
       "      <td>0.0</td>\n",
       "      <td>0.0</td>\n",
       "    </tr>\n",
       "    <tr>\n",
       "      <th>2</th>\n",
       "      <td>0.0</td>\n",
       "      <td>0.057924</td>\n",
       "      <td>0.000000</td>\n",
       "      <td>0.156945</td>\n",
       "      <td>0.000000</td>\n",
       "      <td>0.0</td>\n",
       "      <td>0.057924</td>\n",
       "      <td>0.0</td>\n",
       "      <td>0.0</td>\n",
       "    </tr>\n",
       "  </tbody>\n",
       "</table>\n",
       "</div>"
      ],
      "text/plain": [
       "   and   another      cats    cheese      dogs  example     mouse  simple  \\\n",
       "0  0.0  0.000000  0.067578  0.000000  0.000000      0.0  0.067578     0.0   \n",
       "1  0.0  0.057924  0.057924  0.000000  0.156945      0.0  0.000000     0.0   \n",
       "2  0.0  0.057924  0.000000  0.156945  0.000000      0.0  0.057924     0.0   \n",
       "\n",
       "   with  \n",
       "0   0.0  \n",
       "1   0.0  \n",
       "2   0.0  "
      ]
     },
     "execution_count": 24,
     "metadata": {},
     "output_type": "execute_result"
    }
   ],
   "source": [
    "pd.DataFrame([tf_idf_A, tf_idf_B, tf_idf_C])"
   ]
  },
  {
   "cell_type": "markdown",
   "metadata": {},
   "source": [
    "# For clustering we must use tf-idf weights\n",
    "the example above is just an example, in practice it is better to apply [TfidfVectorizer from sklearn](http://scikit-learn.org/stable/modules/generated/sklearn.feature_extraction.text.TfidfVectorizer.html)"
   ]
  },
  {
   "cell_type": "code",
   "execution_count": 25,
   "metadata": {},
   "outputs": [],
   "source": [
    "from sklearn.feature_extraction.text import TfidfVectorizer\n",
    "from sklearn.cluster import KMeans"
   ]
  },
  {
   "cell_type": "markdown",
   "metadata": {},
   "source": [
    "## Full text for clusterring\n",
    "\n",
    "This corpus contain some strings about Google and some strings about TF-IDF from Wikipedia. Just for example"
   ]
  },
  {
   "cell_type": "code",
   "execution_count": 88,
   "metadata": {},
   "outputs": [
    {
     "data": {
      "text/plain": [
       "[\"On top of the world, after France defeated Croatia 4-2 to win its second-ever World Cup title, 19-year-old soccer star Kylain Mbappé now plans to donate his winnings to a children's charity.The French striker turned heads during the 2018 FIFA World Cup, netting four goals and getting named the best young player of the tournament.He's also an ambassador and huge supporter of Premiers de Cordée (PDC), an organization which offers free sports programs for disabled and hospitalized children.Ninon Barel, a spokesperson for the charity, confirmed about Mbappé's intentions to share his earnings with them but said he doesn't know the exact amount at this time.\\n\",\n",
       " \"France won the World Cup for the second time by beating Croatia 4-2 in a tremendous final in Moscow.A breathtaking encounter featured the first World Cup final own goal, two hugely controversial refereeing decisions and a goalkeeping howler.France's victory meant Didier Deschamps, who captained them to glory in 1998, became just the third man to win the competition as a player and coach.Croatia started brightly but France scored with their first attack as Mario Mandzukic headed Antoine Griezmann's controversially awarded free-kick into his own net.As in all their previous knockout games, Croatia pulled level, this time through a well-taken goal from Ivan Perisic.Just 10 minutes later France led again after Perisic was adjudged to have deliberately handled Blaise Matuidi's flick-on - but only after referee Nestor Pitana consulted the video assistant referee.\\n\",\n",
       " 'Sri Lanka cricket selectors hopeful that fast bowler Lasith Malinga will be able to make a comeback for Nidhas Trophy T20 tri-nation series to be held in Sri Lanka next month.India, Sri Lanka and Bangladesh will feature in the series.Lasith Malinga missed out on international cricket for close to two years due to a knee injury before making a comeback during Champions Trophy last June.Since his return, Malinga has featured in 13 ODIs and taken only 10 wickets at an average of 62.After a poor home series against India, he was dropped for the tours of UAE and India.However, he did reasonably well in T20Is since the injury, having taken 12 wickets in six games. However, his economy rate has been high at 8.25.\"Once he plays domestic cricket we will consider him. We have sent a message not just to Lasith but all players to feature in domestic games. I know it is not ideal when we have a First Class tournament going on and you are considered a T-20 specialist. However, to be in the system, you have to feature in domestic cricket,\" Chief Selector Graeme Labrooy has said.\\n',\n",
       " \"Pakistan fast bowler Hasan Ali has a unique celebration after bagging a wicket.Many young cricketers are also imitating that post-wicket celebration.However, during Pakistan - Zimbabwe second One Day International at Bulawayo, Ali sustained a shoulder injury while performing his unique celebration after dismissing Zimbabwe's Ryan Murray.Although he completed his over, it was clearly seen that the fast bowler was in pain.The visitors won the game by nine wickets, which was played yesterday.Batting first, the home team made 194 all out in 49.2 overs.In reply, the visitors reached the target losing just one wicket off 36 overs.Fakhar Zaman remained unbeaten 117.\\n\",\n",
       " 'Indian cricket great, Sachin Tendulkar\\'s son Arjun is now in Sri Lanka with the Indian under 19 side.While his father was a diminutive right-handed batsman and leg-spinner, Arjun is a tall left-arm fast bowler and damaging left-handed batter in the lower order.He finished day one of the matches in Colombo with figures of 1-33 from 11 overs, including two maidens, as Sri Lanka U19s were bowled out for 244.Arjun\\'s early wicket was instantly shared around the world on social media, with Sachin\\'s former teammate and close friend Vinod Kambli tweeting that \"tears of joy\" rolled down his face when he saw the vision.Tendulkar junior who bowls left-arm fast medium bagged his first wicket in the international stage removing Sri Lankan u-19 opener K. Mishara for 9. His wicket-taking video is added to the twitter and many Indian cricket followers say that he will be able to fulfill the left-arm fast bowling deficiency in the national team.\\n\\n',\n",
       " \"England captain Harry Kane has won the Golden Boot after finishing as the World Cup's top scorer with Croatia's Luka Modric winning the Golden Ball for being the player of the tournament.Belgium midfielder Eden Hazard was the second-best player, with France forward Antoine Griezmann third.Kane is the second Englishman to end as the top scorer in a World Cup after Gary Lineker scored six goals in 1986.Mbappe and Griezmann, who both scored in France's 4-2 final win over Croatia, ended on four goals apiece, two behind Kane.Russia's Denis Cheryshev, Portugal's Cristiano Ronaldo, and Belgium's Romelu Lukaku also scored four times.\\n\"]"
      ]
     },
     "execution_count": 88,
     "metadata": {},
     "output_type": "execute_result"
    }
   ],
   "source": [
    "all_text = \"\"\"\n",
    "Google and Facebook are strangling the free press to death. Democracy is the loser\n",
    "Your 60-second guide to security stuff Google touted today at Next '18\n",
    "A Guide to Using Android Without Selling Your Soul to Google\n",
    "Review: Lenovo’s Google Smart Display is pretty and intelligent\n",
    "Google Maps user spots mysterious object submerged off the coast of Greece - and no-one knows what it is\n",
    "Android is better than IOS\n",
    "In information retrieval, tf–idf or TFIDF, short for term frequency–inverse document frequency\n",
    "is a numerical statistic that is intended to reflect\n",
    "how important a word is to a document in a collection or corpus.\n",
    "It is often used as a weighting factor in searches of information retrieval\n",
    "text mining, and user modeling. The tf-idf value increases proportionally\n",
    "to the number of times a word appears in the document\n",
    "and is offset by the frequency of the word in the corpus\n",
    "\"\"\".split(\"\\n\")[1:-1]\n",
    "all_text\n",
    "\n",
    "\n",
    "import os\n",
    "\n",
    "path = '/home/akash/Documents/SLIIT/CDAP/Cropus/TestE/'\n",
    "\n",
    "files = []\n",
    "# r=root, d=directories, f = files\n",
    "for r, d, f in os.walk(path):\n",
    "    for file in f:\n",
    "        files.append(os.path.join(r, file))\n",
    "\n",
    "\n",
    "filenames = files\n",
    "files = {}\n",
    " \n",
    "for filename in filenames:\n",
    "    with open(filename, \"r\") as file:\n",
    "        if filename in files:\n",
    "            continue\n",
    "        files[filename] = file.read()\n",
    "list=[]\n",
    "for filename, text in files.items():\n",
    "    list.append(text)\n",
    "list"
   ]
  },
  {
   "cell_type": "markdown",
   "metadata": {},
   "source": [
    "## Preprocessing and tokenizing\n",
    "Firstly, we must bring every chars to lowercase and remove all punctuation, because it's not important for our task, but is very harmful for clustering algorithm. \n",
    "After that, we'll split strings to array of words."
   ]
  },
  {
   "cell_type": "code",
   "execution_count": 89,
   "metadata": {},
   "outputs": [],
   "source": [
    "def preprocessing(line):\n",
    "    line = line.lower()\n",
    "    line = re.sub(r\"[{}]\".format(string.punctuation), \" \", line)\n",
    "    return line"
   ]
  },
  {
   "cell_type": "markdown",
   "metadata": {},
   "source": [
    "Now, let's calculate tf-idf for this corpus"
   ]
  },
  {
   "cell_type": "code",
   "execution_count": 85,
   "metadata": {},
   "outputs": [
    {
     "data": {
      "text/plain": [
       "<9x523 sparse matrix of type '<class 'numpy.float64'>'\n",
       "\twith 1035 stored elements in Compressed Sparse Row format>"
      ]
     },
     "execution_count": 85,
     "metadata": {},
     "output_type": "execute_result"
    }
   ],
   "source": [
    "tfidf_vectorizer = TfidfVectorizer(preprocessor=preprocessing)\n",
    "tfidf = tfidf_vectorizer.fit_transform(list)\n",
    "tfidf"
   ]
  },
  {
   "cell_type": "markdown",
   "metadata": {},
   "source": [
    "And train simple kmeans model with k = 2"
   ]
  },
  {
   "cell_type": "code",
   "execution_count": 91,
   "metadata": {},
   "outputs": [
    {
     "data": {
      "text/plain": [
       "array([1, 1, 1, 0, 0, 1, 0, 0, 0], dtype=int32)"
      ]
     },
     "execution_count": 91,
     "metadata": {},
     "output_type": "execute_result"
    }
   ],
   "source": [
    "kmeans = KMeans(n_clusters=2).fit(tfidf)\n",
    "labels = kmeans.labels_\n",
    "labels"
   ]
  },
  {
   "cell_type": "markdown",
   "metadata": {},
   "source": [
    "Predictions"
   ]
  },
  {
   "cell_type": "code",
   "execution_count": 97,
   "metadata": {},
   "outputs": [
    {
     "name": "stdout",
     "output_type": "stream",
     "text": [
      "[\"On top of the world, after France defeated Croatia 4-2 to win its second-ever World Cup title, 19-year-old soccer star Kylain Mbappé now plans to donate his winnings to a children's charity.The French striker turned heads during the 2018 FIFA World Cup, netting four goals and getting named the best young player of the tournament.He's also an ambassador and huge supporter of Premiers de Cordée (PDC), an organization which offers free sports programs for disabled and hospitalized children.Ninon Barel, a spokesperson for the charity, confirmed about Mbappé's intentions to share his earnings with them but said he doesn't know the exact amount at this time.\\n\", \"France won the World Cup for the second time by beating Croatia 4-2 in a tremendous final in Moscow.A breathtaking encounter featured the first World Cup final own goal, two hugely controversial refereeing decisions and a goalkeeping howler.France's victory meant Didier Deschamps, who captained them to glory in 1998, became just the third man to win the competition as a player and coach.Croatia started brightly but France scored with their first attack as Mario Mandzukic headed Antoine Griezmann's controversially awarded free-kick into his own net.As in all their previous knockout games, Croatia pulled level, this time through a well-taken goal from Ivan Perisic.Just 10 minutes later France led again after Perisic was adjudged to have deliberately handled Blaise Matuidi's flick-on - but only after referee Nestor Pitana consulted the video assistant referee.\\n\", 'Sri Lanka cricket selectors hopeful that fast bowler Lasith Malinga will be able to make a comeback for Nidhas Trophy T20 tri-nation series to be held in Sri Lanka next month.India, Sri Lanka and Bangladesh will feature in the series.Lasith Malinga missed out on international cricket for close to two years due to a knee injury before making a comeback during Champions Trophy last June.Since his return, Malinga has featured in 13 ODIs and taken only 10 wickets at an average of 62.After a poor home series against India, he was dropped for the tours of UAE and India.However, he did reasonably well in T20Is since the injury, having taken 12 wickets in six games. However, his economy rate has been high at 8.25.\"Once he plays domestic cricket we will consider him. We have sent a message not just to Lasith but all players to feature in domestic games. I know it is not ideal when we have a First Class tournament going on and you are considered a T-20 specialist. However, to be in the system, you have to feature in domestic cricket,\" Chief Selector Graeme Labrooy has said.\\n', \"Pakistan fast bowler Hasan Ali has a unique celebration after bagging a wicket.Many young cricketers are also imitating that post-wicket celebration.However, during Pakistan - Zimbabwe second One Day International at Bulawayo, Ali sustained a shoulder injury while performing his unique celebration after dismissing Zimbabwe's Ryan Murray.Although he completed his over, it was clearly seen that the fast bowler was in pain.The visitors won the game by nine wickets, which was played yesterday.atting first, the home team made 194 all out in 49.2 overs.In reply, the visitors reached the target losing just one wicket off 36 overs.akhar Zaman remained unbeaten 117.rn\\n\\n\", 'Sri Lanka cricket selectors hopeful that fast bowler Lasith Malinga will be able to make a comeback for Nidhas Trophy T20 tri-nation series to be held in Sri Lanka next month.India, Sri Lanka and Bangladesh will feature in the series.Lasith Malinga missed out on international cricket for close to two years due to a knee injury before making a comeback during Champions Trophy last June.Since his return, Malinga has featured in 13 ODIs and taken only 10 wickets at an average of 62.After a poor home series against India, he was dropped for the tours of UAE and India.However, he did reasonably well in T20Is since the injury, having taken 12 wickets in six games. However, his economy rate has been high at 8.25.\"Once he plays domestic cricket we will consider him. We have sent a message not just to Lasith but all players to feature in domestic games. I know it is not ideal when we have a First Class tournament going on and you are considered a T-20 specialist. However, to be in the system, you have to feature in domestic cricket,\" Chief Selector Graeme Labrooy has said.\\n']\n"
     ]
    },
    {
     "data": {
      "text/plain": [
       "array([1, 1, 0, 1, 0], dtype=int32)"
      ]
     },
     "execution_count": 97,
     "metadata": {},
     "output_type": "execute_result"
    }
   ],
   "source": [
    "import os\n",
    "\n",
    "path = '/home/akash/Documents/SLIIT/CDAP/Cropus/test2E/'\n",
    "\n",
    "files = []\n",
    "# r=root, d=directories, f = files\n",
    "for r, d, f in os.walk(path):\n",
    "    for file in f:\n",
    "        files.append(os.path.join(r, file))\n",
    "\n",
    "\n",
    "filenames = files\n",
    "files = {}\n",
    " \n",
    "for filename in filenames:\n",
    "    with open(filename, \"r\") as file:\n",
    "        if filename in files:\n",
    "            continue\n",
    "        files[filename] = file.read()\n",
    "list2=[]\n",
    "for filename, text in files.items():\n",
    "    list2.append(text)\n",
    "print(list2)\n",
    "\n",
    "\n",
    "lines_for_predicting = [\"මැලේසියාවේ ඉපෝ නුවරදී අවසන් වූ ආසියානු පළමු කොටසේ රග්බි තරගාවලියේදී ආසියානු ශ්‍රේණිගත කිරීමේ සිවුවැනි ස්ථානයේ පසු වූ ශ්‍රී ලංකාව ශ්‍රේණිගත කිරීමේ හත්වැනි ස්ථානයේ පසුවූ මැලේසියාව හමුවේ පරාජයට පත්වීමත් සමඟ ශ්‍රී ලංකාව ශ්‍රේණිගත කිරීමේ පහළට වැටීමේ අවදානමකට පත්ව තිබේ. ආසියානු තරගාවලියට පෙර ශ්‍රී ලංකාව ප්‍රසාද ලකුණු 49.79 ක් ලබා අන්තර්ජාතික ශ්‍රේණිගත කිරීම් අනුව ආසියාවේ සිවුවැනි ස්ථානයේද, කසකස්තානය ප්‍රසාද ලකුණු 48.14 ක් ලබා පස්වැනි ස්ථානයේද පසුවිය. ඒ වන විට මැලේසියාව ප්‍රසාද ලකුණු 43.53 ක් ලබා ආසියානු ශේණිගත කිරීම් අතරේ හත්වැනි ස්ථානයේ සිටියේය. ආසියානු ශ්‍රේණිගත කිරීමේ ලැයිස්තුව 2015 වසරේ නොවැම්බර් මස 23 වැනිදායින් පසුව යාවත්කාලීන කර නොමැත. ලෝක ශ්‍රේණිගත කිරීමේ මෙම මස 14 වැනිදා යාවත්කාලීන කිරීමෙන් පසු ශ්‍රී ලංකාව ප්‍රසාද ලකුණු 48.27 ක් ලබා 41 වැනි ස්ථානයේ ද, කසකස්තානය ප්‍රසාද ලකුණු 48.14 ක් ලබා 42 වැනි ස්ථානයේ ද, පසු වෙයි. ශ්‍රී ලංකාව ආසියානු තරගාවලියේදී ලෝක ශ්‍රේණිගත කිරීමේ 7 වැනි ස්ථානයේ සිටින මැලේසියාව හමුවේ පරාජයට පත්වීමෙන් කසකස්තානය ඉහළ පැමිණිමට ඉඩ තිබේ. ශ්‍රී ලංකා පිල එහිදී ලකුණු 22-9 ක් ලෙස මැලේසියාව හමුවේ පරාජයට පත්වූ අතර පිලිපීනය සහ එක්සත් අරාබි එමිර් රාජ්‍යය පරාජය කළේය. ආසියානු ශ්‍රේණිගත කිරීමේ හයවැනි ස්ථානයේ සිටින පිලිපීනය ලෝක ශ්‍රේණිගත කිරීමේ 57 වැනි ස්ථානයේ ද, 14 වැනි ස්ථානයේ පසු වන එක්සත් අරාබි එමිර් රාජ්‍යය ලෝක ශ්‍රේණිගත කිරීමේ 73 වැනි ස්ථානයේ ද, පසු වෙයි. ආසියානු ශ්‍රේණිගත කිරීමේ පළමු ස්ථානයේ සිට ජපානය ලෝක ශ්‍රේණිග කිරීමේ 11 වැනි ස්ථානයේ ද, දෙවැනි සහ තෙවැනි ස්ථානවල සිටින හොං කොං සහ දකුණු කොරියාව ලෝක ශ්‍රේණිගත කිරීමේ 26 සහ 28 වැනි ස්ථානවල ද පසු වෙති\", \"අවසන් මිනිත්තු දහය දක්වාම තම පිලට ප්‍රබල අභියෝගයක් එල්ල කරමින් ලකුණු දෙකකින් පමණක් පසුපසින් සිටි ශ්‍රී ලංකා ගුවන් හමුදා රග්බි කණ්ඩායමේ ක්‍රීඩකයන්ගේ නීතිවිරෝධී ක්‍රීඩා රටාව නිසා ලද දඬුවම් ලකුණු සංඛ්‍යාව සිය වාසියට හරවාගත් සී.ආර්.ඇන්ඞ් එෆ්.සී. ක්‍රීඩා සමාජය අන්තර් සමාජ පළමුපෙළ ඩයලොග් ලීග් රග්බි තරගාවලියේ අද (05 වැනිදා) පැවැති තරගයෙන් ලකුණු 21-9ක ජයක් අත්කර ගැනීමට සමත්විය. සී.ආර්. පිල ගෝලයක්, උත්සාහක දිනුමක් සහ දඬුවම් පහර 3 ක් ලබද්දී ගුවන් හමුදා පිලට දඬුවම් පහර 3 කින් පමණක් සෑහීමකට පත්වීමට සිදුවිය. තරගයේ පළමු භාගය නිමාවනවිටත් ලකුණු 6-3 කින් ඉදිරියෙන් පසුවූ ගුවන් හමුදා පිල අවසන් මිනිත්තු දහය එළැඹෙද්දී සී.ආර්.පිලට වඩා පසුපසින් සිටියේ ලකුණු 11-9 කින් පමණි. එහෙත් තරගය නිමාවීමට මිනිත්තු 7 කට පමණ පෙර ලද ‘පැනල්ටි ට්‍රයි ‘එකක් සහ අවසන් මිනිත්තුවේ ලද දඬුවම් පහරක් නිසා තරගය එහෙම පිටින්ම උඩුයටිකුරු වූයේ සී.ආර්.පිලට ජයග්‍රහණය අත්කර දෙමිනි. තරගයේ 8 වැනි මිනිත්තුවේදී දඬුවම් පහරක් සාර්ථක කරගත් චරිත් සෙනෙවිරත්න ලකුණු 3-0 කින් ගුවන් හමුදා පිල ඉදිරියට ගෙන ගියේය. ඊට මිනිත්තු දහයකට පසුව තම පිලට ලැබුණු දඬුවම් පහර සාර්ථක කරගත් තරින්ද රත්වත්ත ලකුණු සංඛ්‍යාව 3-3 කින් සම කරගත්තේය. අනතුරුව 36 වැනි මිනිත්තුවේ තවත් දඬුවම් පහරක් සාර්ථක කළ චරිත් සෙනෙවිරත්න ගුවන් හමුදා පිලට තරගයේ පළමු භාගයේ පෙරමුණ ගෙන දුන්නේ ලකුණු 6-3ක් ලෙසිනි. ගුවන් හමුදා පිලට වඩා ලකුණු 3ක් පසුපසින් සිටිමින් දෙවැනි භාගය ආරම්භ කළ සී.ආර්.පිලට නැවත පෙරමුණ ගෙනදුන් චරන චාමිකර 49 වැනි මිනිත්තුවේදී තරගයේ පළමු උත්සාහක දිනුම තැබුවේය. එය තරින්ද රත්වත්තට සාර්ථකව ප්‍රවර්ථනය කිරිමට නොහැකිවූවත් ලකුණු 8-6කින් පෙරමුණ ගැනීමට සී.ආර්.පිලට හැකිවිය\", \"Google\", \"Google Dev\"]\n",
    "kmeans.predict(tfidf_vectorizer.transform(list2))"
   ]
  },
  {
   "cell_type": "code",
   "execution_count": 93,
   "metadata": {},
   "outputs": [
    {
     "data": {
      "text/plain": [
       "0.7138429864106602"
      ]
     },
     "execution_count": 93,
     "metadata": {},
     "output_type": "execute_result"
    }
   ],
   "source": [
    "from sklearn.metrics.cluster import completeness_score\n",
    "completeness_score([1, 1, 0, 0, 1, 1, 0, 1, 1, 1, 1, 0, 0, 1, 1, 0, 1, 1], [1, 1, 0, 0, 1, 1, 0, 1, 0, 1, 1, 0, 0, 1, 1, 0, 1, 1])"
   ]
  },
  {
   "cell_type": "code",
   "execution_count": 117,
   "metadata": {},
   "outputs": [],
   "source": [
    "import csv\n",
    "\n",
    "with open('persons11.csv', 'w') as csvfile:\n",
    "    filewriter = csv.writer(csvfile)\n",
    "    for ss in list2:\n",
    "#         print(ss)\n",
    "        filewriter.writerow([ss, 'cricket'])"
   ]
  },
  {
   "cell_type": "code",
   "execution_count": 2,
   "metadata": {},
   "outputs": [
    {
     "data": {
      "text/plain": [
       "True"
      ]
     },
     "execution_count": 2,
     "metadata": {},
     "output_type": "execute_result"
    }
   ],
   "source": [
    "isinstance(\"තරග තීරකවරුන්ගේ ආරක්ෂාව සම්බන්ධයෙන් දැඩි පියව\", str)"
   ]
  },
  {
   "cell_type": "code",
   "execution_count": null,
   "metadata": {},
   "outputs": [],
   "source": []
  }
 ],
 "metadata": {
  "kernelspec": {
   "display_name": "Python 3",
   "language": "python",
   "name": "python3"
  },
  "language_info": {
   "codemirror_mode": {
    "name": "ipython",
    "version": 3
   },
   "file_extension": ".py",
   "mimetype": "text/x-python",
   "name": "python",
   "nbconvert_exporter": "python",
   "pygments_lexer": "ipython3",
   "version": "3.6.7"
  }
 },
 "nbformat": 4,
 "nbformat_minor": 2
}
