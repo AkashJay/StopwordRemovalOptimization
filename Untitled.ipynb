{
 "cells": [
  {
   "cell_type": "code",
   "execution_count": 1,
   "metadata": {},
   "outputs": [
    {
     "ename": "ModuleNotFoundError",
     "evalue": "No module named 'lucene'",
     "output_type": "error",
     "traceback": [
      "\u001b[0;31m---------------------------------------------------------------------------\u001b[0m",
      "\u001b[0;31mModuleNotFoundError\u001b[0m                       Traceback (most recent call last)",
      "\u001b[0;32m<ipython-input-1-468e6b017bb3>\u001b[0m in \u001b[0;36m<module>\u001b[0;34m\u001b[0m\n\u001b[0;32m----> 1\u001b[0;31m \u001b[0;32mimport\u001b[0m \u001b[0mlucene\u001b[0m\u001b[0;34m\u001b[0m\u001b[0;34m\u001b[0m\u001b[0m\n\u001b[0m\u001b[1;32m      2\u001b[0m \u001b[0;32mfrom\u001b[0m \u001b[0mjava\u001b[0m\u001b[0;34m.\u001b[0m\u001b[0mio\u001b[0m \u001b[0;32mimport\u001b[0m \u001b[0mStringReader\u001b[0m\u001b[0;34m\u001b[0m\u001b[0;34m\u001b[0m\u001b[0m\n\u001b[1;32m      3\u001b[0m \u001b[0;32mfrom\u001b[0m \u001b[0morg\u001b[0m\u001b[0;34m.\u001b[0m\u001b[0mapache\u001b[0m\u001b[0;34m.\u001b[0m\u001b[0mlucene\u001b[0m\u001b[0;34m.\u001b[0m\u001b[0manalysis\u001b[0m\u001b[0;34m.\u001b[0m\u001b[0mja\u001b[0m \u001b[0;32mimport\u001b[0m \u001b[0mJapaneseAnalyzer\u001b[0m\u001b[0;34m\u001b[0m\u001b[0;34m\u001b[0m\u001b[0m\n\u001b[1;32m      4\u001b[0m \u001b[0;32mfrom\u001b[0m \u001b[0morg\u001b[0m\u001b[0;34m.\u001b[0m\u001b[0mapache\u001b[0m\u001b[0;34m.\u001b[0m\u001b[0mlucene\u001b[0m\u001b[0;34m.\u001b[0m\u001b[0manalysis\u001b[0m\u001b[0;34m.\u001b[0m\u001b[0mstandard\u001b[0m \u001b[0;32mimport\u001b[0m \u001b[0mStandardAnalyzer\u001b[0m\u001b[0;34m,\u001b[0m \u001b[0mStandardTokenizer\u001b[0m\u001b[0;34m\u001b[0m\u001b[0;34m\u001b[0m\u001b[0m\n\u001b[1;32m      5\u001b[0m \u001b[0;32mfrom\u001b[0m \u001b[0morg\u001b[0m\u001b[0;34m.\u001b[0m\u001b[0mapache\u001b[0m\u001b[0;34m.\u001b[0m\u001b[0mlucene\u001b[0m\u001b[0;34m.\u001b[0m\u001b[0manalysis\u001b[0m\u001b[0;34m.\u001b[0m\u001b[0mtokenattributes\u001b[0m \u001b[0;32mimport\u001b[0m \u001b[0mCharTermAttribute\u001b[0m\u001b[0;34m\u001b[0m\u001b[0;34m\u001b[0m\u001b[0m\n",
      "\u001b[0;31mModuleNotFoundError\u001b[0m: No module named 'lucene'"
     ]
    }
   ],
   "source": [
    "import lucene\n",
    "from java.io import StringReader\n",
    "from org.apache.lucene.analysis.ja import JapaneseAnalyzer\n",
    "from org.apache.lucene.analysis.standard import StandardAnalyzer, StandardTokenizer\n",
    "from org.apache.lucene.analysis.tokenattributes import CharTermAttribute\n",
    "lucene.initVM(vmargs=['-Djava.awt.headless=true'])\n",
    "# Basic tokenizer example.\n",
    "test = \"This is how we do it.\"\n",
    "tokenizer = StandardTokenizer()\n",
    "tokenizer.setReader(StringReader(test))\n",
    "charTermAttrib = tokenizer.getAttribute(CharTermAttribute.class_)\n",
    "tokenizer.reset()\n",
    "tokens = []\n",
    "while tokenizer.incrementToken():\n",
    "    tokens.append(charTermAttrib.toString())\n",
    "print(tokens)\n",
    "# StandardAnalyzer example.\n",
    "analyzer = StandardAnalyzer()\n",
    "stream = analyzer.tokenStream(\"\", StringReader(test))\n",
    "stream.reset()\n",
    "tokens = []\n",
    "while stream.incrementToken():\n",
    "    tokens.append(stream.getAttribute(CharTermAttribute.class_).toString())\n",
    "print(tokens)\n",
    "# JapaneseAnalyzer example.\n",
    "analyzer = JapaneseAnalyzer()\n",
    "test = \"寿司が食べたい。\"\n",
    "stream = analyzer.tokenStream(\"\", StringReader(test))\n",
    "stream.reset()\n",
    "tokens = []\n",
    "while stream.incrementToken():\n",
    "    tokens.append(stream.getAttribute(CharTermAttribute.class_).toString())\n",
    "print(tokens)"
   ]
  },
  {
   "cell_type": "code",
   "execution_count": null,
   "metadata": {},
   "outputs": [],
   "source": []
  },
  {
   "cell_type": "code",
   "execution_count": 2,
   "metadata": {},
   "outputs": [],
   "source": [
    "text_file = open(\"stopList\", \"r\")\n",
    "lines = text_file.read().split('\\n')"
   ]
  },
  {
   "cell_type": "code",
   "execution_count": null,
   "metadata": {},
   "outputs": [],
   "source": []
  },
  {
   "cell_type": "code",
   "execution_count": null,
   "metadata": {},
   "outputs": [],
   "source": []
  }
 ],
 "metadata": {
  "kernelspec": {
   "display_name": "Python 3",
   "language": "python",
   "name": "python3"
  },
  "language_info": {
   "codemirror_mode": {
    "name": "ipython",
    "version": 3
   },
   "file_extension": ".py",
   "mimetype": "text/x-python",
   "name": "python",
   "nbconvert_exporter": "python",
   "pygments_lexer": "ipython3",
   "version": "3.6.8"
  }
 },
 "nbformat": 4,
 "nbformat_minor": 2
}
